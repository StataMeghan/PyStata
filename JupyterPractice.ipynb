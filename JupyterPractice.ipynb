{
 "cells": [
  {
   "cell_type": "markdown",
   "id": "a1249d48",
   "metadata": {},
   "source": [
    "# PyStata demonstration 10/5"
   ]
  },
  {
   "cell_type": "markdown",
   "id": "b9895c4a",
   "metadata": {},
   "source": [
    "## Configuration"
   ]
  },
  {
   "cell_type": "markdown",
   "id": "bc8eff3c",
   "metadata": {},
   "source": [
    "#### 1. Use the Python module stata_setup\n",
    "Install stata_setup"
   ]
  },
  {
   "cell_type": "code",
   "execution_count": 1,
   "id": "cfac2226",
   "metadata": {},
   "outputs": [
    {
     "name": "stdout",
     "output_type": "stream",
     "text": [
      "\n",
      "  ___  ____  ____  ____  ____ ©\n",
      " /__    /   ____/   /   ____/      17.0\n",
      "___/   /   /___/   /   /___/       MP—Parallel Edition\n",
      "\n",
      " Statistics and Data Science       Copyright 1985-2021 StataCorp LLC\n",
      "                                   StataCorp\n",
      "                                   4905 Lakeway Drive\n",
      "                                   College Station, Texas 77845 USA\n",
      "                                   800-STATA-PC        https://www.stata.com\n",
      "                                   979-696-4600        stata@stata.com\n",
      "\n",
      "Stata license: Unlimited-user 4-core network perpetual\n",
      "Serial number: 17\n",
      "  Licensed to: Meghan Cain\n",
      "               StataCorp LLC\n",
      "\n",
      "Notes:\n",
      "      1. Unicode is supported; see help unicode_advice.\n",
      "      2. More than 2 billion observations are allowed; see help obs_advice.\n",
      "      3. Maximum number of variables is set to 5,000; see help set_maxvar.\n"
     ]
    }
   ],
   "source": [
    "import stata_setup\n",
    "stata_setup.config(\"C:/Program Files/Stata17\", \"mp\")"
   ]
  },
  {
   "cell_type": "markdown",
   "id": "134ff39a",
   "metadata": {},
   "source": [
    "#### 2. Add pystata’s location to Python’s module search path"
   ]
  },
  {
   "cell_type": "code",
   "execution_count": null,
   "id": "f16f82bd",
   "metadata": {},
   "outputs": [],
   "source": [
    "import sys\n",
    "sys.path.append('C:/Program Files/Stata17/utilities')\n",
    "from pystata import config\n",
    "config.init('mp')"
   ]
  },
  {
   "cell_type": "markdown",
   "id": "5cd40f7f",
   "metadata": {},
   "source": [
    "#### 3. Change the current working directory to pystata’s location"
   ]
  },
  {
   "cell_type": "code",
   "execution_count": null,
   "id": "d344a639",
   "metadata": {},
   "outputs": [],
   "source": [
    "import os\n",
    "os.chdir('C:/Program Files/Stata17/utilities')\n",
    "from pystata import config\n",
    "config.init('mp')"
   ]
  },
  {
   "cell_type": "markdown",
   "id": "c16e1d93",
   "metadata": {},
   "source": [
    "#### 4. Permanently add pystata’s location to Python’s module search path\n",
    "For Windows 10 users, click: **Control Panel > System and Security > System > Advanced system settings > Environment Variables** <br>\n",
    "Add a new user variable named PYTHONPATH, specified as STATA_SYSDIR\\utilities\n",
    "\n",
    "For Linux and Mac OS X users, you can set it permanently in your ~/.bashrc or ~/.bash_profile file: \n",
    "export PYTHONPATH=STATA_SYSDIR/utilities:$PYTHONPATH\n",
    "\n",
    "or in your ~/.cshrc file,\n",
    "setenv PYTHONPATH STATA_SYSDIR\\utilities:${PYTHONPATH}"
   ]
  },
  {
   "cell_type": "code",
   "execution_count": null,
   "id": "ce96c268",
   "metadata": {},
   "outputs": [],
   "source": [
    "from pystata import config\n",
    "config.init('mp')"
   ]
  },
  {
   "cell_type": "markdown",
   "id": "f53a1862",
   "metadata": {},
   "source": [
    "## Load modules"
   ]
  },
  {
   "cell_type": "code",
   "execution_count": 7,
   "id": "87ee0a9d",
   "metadata": {},
   "outputs": [],
   "source": [
    "from pystata import stata, config\n",
    "import pandas as pd\n",
    "import numpy as np\n",
    "from IPython.display import HTML, display"
   ]
  },
  {
   "cell_type": "markdown",
   "id": "d6d25be4",
   "metadata": {},
   "source": [
    "## PyStata magic demonstration"
   ]
  },
  {
   "cell_type": "code",
   "execution_count": 2,
   "id": "fb759a0e",
   "metadata": {},
   "outputs": [
    {
     "name": "stdout",
     "output_type": "stream",
     "text": [
      "    System information\n",
      "      Python version         3.9.7\n",
      "      Stata version          Stata 17.0 (MP)\n",
      "      Stata library path     C:\\Program Files\\Stata17\\mp-64.dll\n",
      "      Stata initialized      True\n",
      "      sfi initialized        True\n",
      "\n",
      "    Settings\n",
      "      graphic display        True\n",
      "      graphic size           width = default, height = default\n",
      "      graphic format         svg\n"
     ]
    }
   ],
   "source": [
    "#verify configuration\n",
    "%pystata status\n",
    "#The default is a 5.5-inch width and 4-inch height."
   ]
  },
  {
   "cell_type": "code",
   "execution_count": 3,
   "id": "2ce41dbd",
   "metadata": {},
   "outputs": [
    {
     "name": "stdout",
     "output_type": "stream",
     "text": [
      "    System information\n",
      "      Python version         3.9.7\n",
      "      Stata version          Stata 17.0 (MP)\n",
      "      Stata library path     C:\\Program Files\\Stata17\\mp-64.dll\n",
      "      Stata initialized      True\n",
      "      sfi initialized        True\n",
      "\n",
      "    Settings\n",
      "      graphic display        True\n",
      "      graphic size           width = 6in, height = default\n",
      "      graphic format         png\n"
     ]
    }
   ],
   "source": [
    "%pystata set graph_size w 6\n",
    "%pystata set graph_format png\n",
    "%pystata status"
   ]
  },
  {
   "cell_type": "markdown",
   "id": "5e4869f8",
   "metadata": {},
   "source": [
    "## Stata magic demonstration"
   ]
  },
  {
   "cell_type": "code",
   "execution_count": 4,
   "id": "8c595924",
   "metadata": {},
   "outputs": [
    {
     "name": "stdout",
     "output_type": "stream",
     "text": [
      "(1978 automobile data)\n"
     ]
    }
   ],
   "source": [
    "%stata sysuse auto"
   ]
  },
  {
   "cell_type": "code",
   "execution_count": 5,
   "id": "06f500e9",
   "metadata": {},
   "outputs": [
    {
     "name": "stdout",
     "output_type": "stream",
     "text": [
      "\n",
      ". scatter mpg weight\n",
      "\n",
      ". regress mpg weight i.foreign\n",
      "\n",
      "      Source |       SS           df       MS      Number of obs   =        74\n",
      "-------------+----------------------------------   F(2, 71)        =     69.75\n",
      "       Model |   1619.2877         2  809.643849   Prob > F        =    0.0000\n",
      "    Residual |  824.171761        71   11.608053   R-squared       =    0.6627\n",
      "-------------+----------------------------------   Adj R-squared   =    0.6532\n",
      "       Total |  2443.45946        73  33.4720474   Root MSE        =    3.4071\n",
      "\n",
      "------------------------------------------------------------------------------\n",
      "         mpg | Coefficient  Std. err.      t    P>|t|     [95% conf. interval]\n",
      "-------------+----------------------------------------------------------------\n",
      "      weight |  -.0065879   .0006371   -10.34   0.000    -.0078583   -.0053175\n",
      "             |\n",
      "     foreign |\n",
      "    Foreign  |  -1.650029   1.075994    -1.53   0.130      -3.7955    .4954422\n",
      "       _cons |    41.6797   2.165547    19.25   0.000     37.36172    45.99768\n",
      "------------------------------------------------------------------------------\n",
      "\n",
      ". \n"
     ]
    },
    {
     "data": {
      "image/png": "[encoded data removed]",
      "text/plain": [
       "<IPython.core.display.Image object>"
      ]
     },
     "metadata": {},
     "output_type": "display_data"
    }
   ],
   "source": [
    "%%stata\n",
    "scatter mpg weight\n",
    "regress mpg weight i.foreign"
   ]
  },
  {
   "cell_type": "markdown",
   "id": "8eeb8d4d",
   "metadata": {},
   "source": [
    "### Efficacy of a new hospital procedure: A DID analysis"
   ]
  },
  {
   "cell_type": "markdown",
   "id": "ffed1eec",
   "metadata": {},
   "source": [
    "The following analysis will use difference-in-differences (DID) regression to estimate the effect of a new admissions procedure on the hospitals that participated in the program.\n",
    "\n",
    "To answer this question, we will use monthly data on patients from January to July. The new admissions procedure was implemented in April by hospitals that were under new management. Of the 46 hospitals in the study, 18 implemented the new procedure.\n",
    "\n",
    "We would like to fit the following model to our data:\n",
    "\n",
    "$$ satisfaction = \\hat{\\gamma}_{s} + \\hat{\\gamma}_{t} + \\hat{\\delta}procedure_{st} + \\varepsilon_{ist} $$\n",
    "\n",
    "where $\\hat{\\gamma}_{s}$ are the hospital fixed effects, $\\hat{\\gamma}_{t}$ are the month fixed effects, and ${\\varepsilon}_{ist}$ is the error term."
   ]
  },
  {
   "cell_type": "code",
   "execution_count": 8,
   "id": "37efa6ee",
   "metadata": {},
   "outputs": [],
   "source": [
    "#import data\n",
    "dfpd = pd.read_csv ('hospdd.csv')"
   ]
  },
  {
   "cell_type": "code",
   "execution_count": 9,
   "id": "1931db37",
   "metadata": {},
   "outputs": [
    {
     "name": "stdout",
     "output_type": "stream",
     "text": [
      "\n",
      ". table frequency (procedure result), statistic(mean satis) statistic(sd satis)\n",
      ">  total(procedure) ///\n",
      "> nformat(%4.2f) sformat(\"(%s)\" sd) style(table-1) label(hosp_lab)\n",
      "\n",
      "------------------------------------------------\n",
      "                |       Admission procedure     \n",
      "                |       New             Old     \n",
      "----------------+-------------------------------\n",
      "Visit frequency |                               \n",
      "         High   |  4.88   (1.14)   3.49   (0.95)\n",
      "          Low   |  4.11   (0.99)   3.45   (0.95)\n",
      "       Medium   |  3.91   (1.00)   3.34   (0.96)\n",
      "    Very high   |  4.72   (1.03)   3.42   (0.94)\n",
      "        Total   |  4.36   (1.10)   3.42   (0.95)\n",
      "------------------------------------------------\n",
      "\n",
      ". \n"
     ]
    }
   ],
   "source": [
    "%%stata -d dfpd -force\n",
    "table frequency (procedure result), statistic(mean satis) statistic(sd satis) total(procedure) ///\n",
    "nformat(%4.2f) sformat(\"(%s)\" sd) style(table-1) label(hosp_lab)"
   ]
  },
  {
   "cell_type": "code",
   "execution_count": 10,
   "id": "40c29343",
   "metadata": {},
   "outputs": [
    {
     "name": "stdout",
     "output_type": "stream",
     "text": [
      "\n",
      "(collection Table exported to file did.html)\n"
     ]
    },
    {
     "data": {
      "text/html": [
       "<html>\n",
       "\n",
       "<head>\n",
       "\n",
       "<meta charset=\"utf-8\" />\n",
       "<meta http-equiv=\"Content-type\"\n",
       "      content=\"text/html; charset=utf-8\" />\n",
       "\n",
       "<style>\n",
       "\n",
       "table {\n",
       "  border-collapse: collapse;\n",
       "}\n",
       "\n",
       ".Table1_1_x {\n",
       "}\n",
       "\n",
       ".Table1_2_x {\n",
       "}\n",
       "\n",
       ".Table1_3_x {\n",
       "}\n",
       "\n",
       ".Table1_4_x {\n",
       "}\n",
       "\n",
       ".Table1_5_x {\n",
       "}\n",
       "\n",
       ".Table1_6_x {\n",
       "}\n",
       "\n",
       ".Table1_7_x {\n",
       "}\n",
       "\n",
       ".Table1_8_x {\n",
       "}\n",
       "\n",
       ".Table1_x_1 {\n",
       "}\n",
       "\n",
       ".Table1_x_2 {\n",
       "}\n",
       "\n",
       ".Table1_x_3 {\n",
       "}\n",
       "\n",
       ".Table1_x_4 {\n",
       "}\n",
       "\n",
       ".Table1_x_5 {\n",
       "}\n",
       "\n",
       ".Table1_1_1 {\n",
       "  border-right-style: solid;\n",
       "  border-top-style: solid;\n",
       "  text-decoration: none;\n",
       "  text-align: center;\n",
       "  vertical-align: bottom;\n",
       "}\n",
       "\n",
       ".Table1_1_2 {\n",
       "  border-left-style: solid;\n",
       "  border-top-style: solid;\n",
       "  text-decoration: none;\n",
       "  text-align: center;\n",
       "  vertical-align: bottom;\n",
       "}\n",
       "\n",
       ".Table1_1_3 {\n",
       "  border-top-style: solid;\n",
       "  text-decoration: none;\n",
       "  text-align: right;\n",
       "  vertical-align: bottom;\n",
       "}\n",
       "\n",
       ".Table1_1_4 {\n",
       "  border-top-style: solid;\n",
       "  text-decoration: none;\n",
       "  text-align: right;\n",
       "  vertical-align: bottom;\n",
       "}\n",
       "\n",
       ".Table1_1_5 {\n",
       "  border-top-style: solid;\n",
       "  text-decoration: none;\n",
       "  text-align: right;\n",
       "  vertical-align: bottom;\n",
       "}\n",
       "\n",
       ".Table1_2_1 {\n",
       "  border-right-style: solid;\n",
       "  border-bottom-style: solid;\n",
       "  text-decoration: none;\n",
       "  text-align: center;\n",
       "  vertical-align: bottom;\n",
       "}\n",
       "\n",
       ".Table1_2_2 {\n",
       "  border-left-style: solid;\n",
       "  border-bottom-style: solid;\n",
       "  text-decoration: none;\n",
       "  text-align: center;\n",
       "  vertical-align: bottom;\n",
       "}\n",
       "\n",
       ".Table1_2_3 {\n",
       "  border-bottom-style: solid;\n",
       "  text-decoration: none;\n",
       "  text-align: right;\n",
       "  vertical-align: bottom;\n",
       "}\n",
       "\n",
       ".Table1_2_4 {\n",
       "  border-bottom-style: solid;\n",
       "  text-decoration: none;\n",
       "  text-align: center;\n",
       "  vertical-align: bottom;\n",
       "}\n",
       "\n",
       ".Table1_2_5 {\n",
       "  border-bottom-style: solid;\n",
       "  text-decoration: none;\n",
       "  text-align: right;\n",
       "  vertical-align: bottom;\n",
       "}\n",
       "\n",
       ".Table1_3_1 {\n",
       "  border-right-style: solid;\n",
       "  border-top-style: solid;\n",
       "  text-decoration: none;\n",
       "  text-align: right;\n",
       "  vertical-align: bottom;\n",
       "}\n",
       "\n",
       ".Table1_3_2 {\n",
       "  padding-left: 10pt;\n",
       "  border-left-style: solid;\n",
       "  border-top-style: solid;\n",
       "  text-decoration: none;\n",
       "  text-align: right;\n",
       "  vertical-align: bottom;\n",
       "}\n",
       "\n",
       ".Table1_3_3 {\n",
       "  padding-left: 10pt;\n",
       "  border-top-style: solid;\n",
       "  text-decoration: none;\n",
       "  text-align: right;\n",
       "  vertical-align: bottom;\n",
       "}\n",
       "\n",
       ".Table1_3_4 {\n",
       "  padding-left: 10pt;\n",
       "  border-top-style: solid;\n",
       "  text-decoration: none;\n",
       "  text-align: right;\n",
       "  vertical-align: bottom;\n",
       "}\n",
       "\n",
       ".Table1_3_5 {\n",
       "  padding-left: 10pt;\n",
       "  border-top-style: solid;\n",
       "  text-decoration: none;\n",
       "  text-align: right;\n",
       "  vertical-align: bottom;\n",
       "}\n",
       "\n",
       ".Table1_4_1 {\n",
       "  border-right-style: solid;\n",
       "  text-decoration: none;\n",
       "  text-align: right;\n",
       "  vertical-align: bottom;\n",
       "}\n",
       "\n",
       ".Table1_4_2 {\n",
       "  padding-left: 10pt;\n",
       "  border-left-style: solid;\n",
       "  text-decoration: none;\n",
       "  text-align: right;\n",
       "  vertical-align: bottom;\n",
       "}\n",
       "\n",
       ".Table1_4_3 {\n",
       "  padding-left: 10pt;\n",
       "  text-decoration: none;\n",
       "  text-align: right;\n",
       "  vertical-align: bottom;\n",
       "}\n",
       "\n",
       ".Table1_4_4 {\n",
       "  padding-left: 10pt;\n",
       "  text-decoration: none;\n",
       "  text-align: right;\n",
       "  vertical-align: bottom;\n",
       "}\n",
       "\n",
       ".Table1_4_5 {\n",
       "  padding-left: 10pt;\n",
       "  text-decoration: none;\n",
       "  text-align: right;\n",
       "  vertical-align: bottom;\n",
       "}\n",
       "\n",
       ".Table1_5_1 {\n",
       "  border-right-style: solid;\n",
       "  text-decoration: none;\n",
       "  text-align: right;\n",
       "  vertical-align: bottom;\n",
       "}\n",
       "\n",
       ".Table1_5_2 {\n",
       "  padding-left: 10pt;\n",
       "  border-left-style: solid;\n",
       "  text-decoration: none;\n",
       "  text-align: right;\n",
       "  vertical-align: bottom;\n",
       "}\n",
       "\n",
       ".Table1_5_3 {\n",
       "  padding-left: 10pt;\n",
       "  text-decoration: none;\n",
       "  text-align: right;\n",
       "  vertical-align: bottom;\n",
       "}\n",
       "\n",
       ".Table1_5_4 {\n",
       "  padding-left: 10pt;\n",
       "  text-decoration: none;\n",
       "  text-align: right;\n",
       "  vertical-align: bottom;\n",
       "}\n",
       "\n",
       ".Table1_5_5 {\n",
       "  padding-left: 10pt;\n",
       "  text-decoration: none;\n",
       "  text-align: right;\n",
       "  vertical-align: bottom;\n",
       "}\n",
       "\n",
       ".Table1_6_1 {\n",
       "  border-right-style: solid;\n",
       "  text-decoration: none;\n",
       "  text-align: right;\n",
       "  vertical-align: bottom;\n",
       "}\n",
       "\n",
       ".Table1_6_2 {\n",
       "  padding-left: 10pt;\n",
       "  border-left-style: solid;\n",
       "  text-decoration: none;\n",
       "  text-align: right;\n",
       "  vertical-align: bottom;\n",
       "}\n",
       "\n",
       ".Table1_6_3 {\n",
       "  padding-left: 10pt;\n",
       "  text-decoration: none;\n",
       "  text-align: right;\n",
       "  vertical-align: bottom;\n",
       "}\n",
       "\n",
       ".Table1_6_4 {\n",
       "  padding-left: 10pt;\n",
       "  text-decoration: none;\n",
       "  text-align: right;\n",
       "  vertical-align: bottom;\n",
       "}\n",
       "\n",
       ".Table1_6_5 {\n",
       "  padding-left: 10pt;\n",
       "  text-decoration: none;\n",
       "  text-align: right;\n",
       "  vertical-align: bottom;\n",
       "}\n",
       "\n",
       ".Table1_7_1 {\n",
       "  border-right-style: solid;\n",
       "  text-decoration: none;\n",
       "  text-align: right;\n",
       "  vertical-align: bottom;\n",
       "}\n",
       "\n",
       ".Table1_7_2 {\n",
       "  padding-left: 10pt;\n",
       "  border-left-style: solid;\n",
       "  text-decoration: none;\n",
       "  text-align: right;\n",
       "  vertical-align: bottom;\n",
       "}\n",
       "\n",
       ".Table1_7_3 {\n",
       "  padding-left: 10pt;\n",
       "  text-decoration: none;\n",
       "  text-align: right;\n",
       "  vertical-align: bottom;\n",
       "}\n",
       "\n",
       ".Table1_7_4 {\n",
       "  padding-left: 10pt;\n",
       "  text-decoration: none;\n",
       "  text-align: right;\n",
       "  vertical-align: bottom;\n",
       "}\n",
       "\n",
       ".Table1_7_5 {\n",
       "  padding-left: 10pt;\n",
       "  text-decoration: none;\n",
       "  text-align: right;\n",
       "  vertical-align: bottom;\n",
       "}\n",
       "\n",
       ".Table1_8_1 {\n",
       "  border-right-style: solid;\n",
       "  border-bottom-style: solid;\n",
       "  text-decoration: none;\n",
       "  text-align: right;\n",
       "  vertical-align: bottom;\n",
       "}\n",
       "\n",
       ".Table1_8_2 {\n",
       "  padding-left: 10pt;\n",
       "  border-left-style: solid;\n",
       "  border-bottom-style: solid;\n",
       "  text-decoration: none;\n",
       "  text-align: right;\n",
       "  vertical-align: bottom;\n",
       "}\n",
       "\n",
       ".Table1_8_3 {\n",
       "  padding-left: 10pt;\n",
       "  border-bottom-style: solid;\n",
       "  text-decoration: none;\n",
       "  text-align: right;\n",
       "  vertical-align: bottom;\n",
       "}\n",
       "\n",
       ".Table1_8_4 {\n",
       "  padding-left: 10pt;\n",
       "  border-bottom-style: solid;\n",
       "  text-decoration: none;\n",
       "  text-align: right;\n",
       "  vertical-align: bottom;\n",
       "}\n",
       "\n",
       ".Table1_8_5 {\n",
       "  padding-left: 10pt;\n",
       "  border-bottom-style: solid;\n",
       "  text-decoration: none;\n",
       "  text-align: right;\n",
       "  vertical-align: bottom;\n",
       "}\n",
       "\n",
       "</style>\n",
       "\n",
       "</head>\n",
       "\n",
       "<body>\n",
       "\n",
       "<table class=\"Table1\">\n",
       "  <tr class=\"Table1_1_x\">\n",
       "    <td class=\"Table1_x_1 Table1_1_1\">&nbsp;</td>\n",
       "    <td colspan=\"4\" class=\"Table1_x_2 Table1_1_2\">Admission procedure</td>\n",
       "  </tr>\n",
       "  <tr class=\"Table1_2_x\">\n",
       "    <td class=\"Table1_x_1 Table1_2_1\">&nbsp;</td>\n",
       "    <td colspan=\"2\" class=\"Table1_x_2 Table1_2_2\">New</td>\n",
       "    <td colspan=\"2\" class=\"Table1_x_4 Table1_2_4\">Old</td>\n",
       "  </tr>\n",
       "  <tr class=\"Table1_3_x\">\n",
       "    <td class=\"Table1_x_1 Table1_3_1\">Visit frequency</td>\n",
       "    <td class=\"Table1_x_2 Table1_3_2\"></td>\n",
       "    <td class=\"Table1_x_3 Table1_3_3\"></td>\n",
       "    <td class=\"Table1_x_4 Table1_3_4\"></td>\n",
       "    <td class=\"Table1_x_5 Table1_3_5\"></td>\n",
       "  </tr>\n",
       "  <tr class=\"Table1_4_x\">\n",
       "    <td class=\"Table1_x_1 Table1_4_1\">High&nbsp;&nbsp;</td>\n",
       "    <td class=\"Table1_x_2 Table1_4_2\">4.88</td>\n",
       "    <td class=\"Table1_x_3 Table1_4_3\">(1.14)</td>\n",
       "    <td class=\"Table1_x_4 Table1_4_4\">3.49</td>\n",
       "    <td class=\"Table1_x_5 Table1_4_5\">(0.95)</td>\n",
       "  </tr>\n",
       "  <tr class=\"Table1_5_x\">\n",
       "    <td class=\"Table1_x_1 Table1_5_1\">Low&nbsp;&nbsp;</td>\n",
       "    <td class=\"Table1_x_2 Table1_5_2\">4.11</td>\n",
       "    <td class=\"Table1_x_3 Table1_5_3\">(0.99)</td>\n",
       "    <td class=\"Table1_x_4 Table1_5_4\">3.45</td>\n",
       "    <td class=\"Table1_x_5 Table1_5_5\">(0.95)</td>\n",
       "  </tr>\n",
       "  <tr class=\"Table1_6_x\">\n",
       "    <td class=\"Table1_x_1 Table1_6_1\">Medium&nbsp;&nbsp;</td>\n",
       "    <td class=\"Table1_x_2 Table1_6_2\">3.91</td>\n",
       "    <td class=\"Table1_x_3 Table1_6_3\">(1.00)</td>\n",
       "    <td class=\"Table1_x_4 Table1_6_4\">3.34</td>\n",
       "    <td class=\"Table1_x_5 Table1_6_5\">(0.96)</td>\n",
       "  </tr>\n",
       "  <tr class=\"Table1_7_x\">\n",
       "    <td class=\"Table1_x_1 Table1_7_1\">Very high&nbsp;&nbsp;</td>\n",
       "    <td class=\"Table1_x_2 Table1_7_2\">4.72</td>\n",
       "    <td class=\"Table1_x_3 Table1_7_3\">(1.03)</td>\n",
       "    <td class=\"Table1_x_4 Table1_7_4\">3.42</td>\n",
       "    <td class=\"Table1_x_5 Table1_7_5\">(0.94)</td>\n",
       "  </tr>\n",
       "  <tr class=\"Table1_8_x\">\n",
       "    <td class=\"Table1_x_1 Table1_8_1\">Total&nbsp;&nbsp;</td>\n",
       "    <td class=\"Table1_x_2 Table1_8_2\">4.36</td>\n",
       "    <td class=\"Table1_x_3 Table1_8_3\">(1.10)</td>\n",
       "    <td class=\"Table1_x_4 Table1_8_4\">3.42</td>\n",
       "    <td class=\"Table1_x_5 Table1_8_5\">(0.95)</td>\n",
       "  </tr>\n",
       "</table>\n",
       "\n",
       "</body>\n",
       "</html>\n"
      ],
      "text/plain": [
       "<IPython.core.display.HTML object>"
      ]
     },
     "metadata": {
      "isolated": true
     },
     "output_type": "display_data"
    }
   ],
   "source": [
    "%stata collect export did.html, replace\n",
    "display(HTML(filename = 'did.html'), metadata=dict(isolated=True))"
   ]
  },
  {
   "cell_type": "code",
   "execution_count": 11,
   "id": "cecd19a9",
   "metadata": {},
   "outputs": [
    {
     "name": "stdout",
     "output_type": "stream",
     "text": [
      "\n",
      "Number of groups and treatment time\n",
      "\n",
      "Time variable: month\n",
      "Control:       proc = 0\n",
      "Treatment:     proc = 1\n",
      "-----------------------------------\n",
      "             |   Control  Treatment\n",
      "-------------+---------------------\n",
      "Group        |\n",
      "    hospital |        28         18\n",
      "-------------+---------------------\n",
      "Time         |\n",
      "     Minimum |         1          4\n",
      "     Maximum |         1          4\n",
      "-----------------------------------\n",
      "\n",
      "Difference-in-differences regression                     Number of obs = 7,368\n",
      "Data type: Repeated cross-sectional\n",
      "\n",
      "                              (Std. err. adjusted for 46 clusters in hospital)\n",
      "------------------------------------------------------------------------------\n",
      "             |               Robust\n",
      "       satis | Coefficient  std. err.      t    P>|t|     [95% conf. interval]\n",
      "-------------+----------------------------------------------------------------\n",
      "ATET         |\n",
      "        proc |\n",
      "   (1 vs 0)  |   .8479879   .0321121    26.41   0.000     .7833108     .912665\n",
      "------------------------------------------------------------------------------\n",
      "Note: ATET estimate adjusted for group effects and time effects.\n"
     ]
    }
   ],
   "source": [
    "%stata didregress (satis) (proc), group(hospital) time(month)"
   ]
  },
  {
   "cell_type": "code",
   "execution_count": 12,
   "id": "6b4769d2",
   "metadata": {},
   "outputs": [
    {
     "name": "stdout",
     "output_type": "stream",
     "text": [
      "\n",
      "scalars:\n",
      "                  e(N) =  7368\n",
      "               e(rank) =  7\n",
      "            e(N_clust) =  46\n",
      "               e(df_r) =  45\n",
      "               e(tmin) =  4\n",
      "               e(tmax) =  4\n",
      "\n",
      "macros:\n",
      "            e(cmdline) : \"didregress (satis) (proc), group(hospital) time(m..\"\n",
      "            e(predict) : \"didregress_p\"\n",
      "     e(treatment_type) : \"binary\"\n",
      "          e(treatment) : \"proc\"\n",
      "          e(data_type) : \"Repeated cross-sectional\"\n",
      "          e(estat_cmd) : \"didregress_estat\"\n",
      "                e(cmd) : \"didregress\"\n",
      "            e(timevar) : \"month\"\n",
      "           e(clustvar) : \"hospital\"\n",
      "            e(vcetype) : \"Robust\"\n",
      "                e(vce) : \"cluster\"\n",
      "   e(_contrast_not_ok) : \"_ALL\"\n",
      "       e(marginsnotok) : \"_ALL\"\n",
      "          e(groupvars) : \"hospital\"\n",
      "         e(properties) : \"b V\"\n",
      "             e(depvar) : \"satis\"\n",
      "\n",
      "matrices:\n",
      "                  e(b) :  1 x 9\n",
      "                  e(V) :  9 x 9\n",
      "        e(group_count) :  3 x 3\n",
      "\n",
      "functions:\n",
      "             e(sample)   \n"
     ]
    }
   ],
   "source": [
    "%stata ereturn list"
   ]
  },
  {
   "cell_type": "code",
   "execution_count": 13,
   "id": "640429a5",
   "metadata": {},
   "outputs": [],
   "source": [
    "%%stata -ret didret -eret dideret -qui\n",
    "didregress (satis) (proc), group(hospital) time(month)"
   ]
  },
  {
   "cell_type": "code",
   "execution_count": 14,
   "id": "6bbdd2e6",
   "metadata": {
    "scrolled": true
   },
   "outputs": [
    {
     "data": {
      "text/plain": [
       "{'e(N)': 7368.0,\n",
       " 'e(rank)': 7.0,\n",
       " 'e(ngroups)': 1.0,\n",
       " 'e(N_clust)': 46.0,\n",
       " 'e(df_r)': 45.0,\n",
       " 'e(tmin)': 4.0,\n",
       " 'e(tmax)': 4.0,\n",
       " 'e(mitiempo)': 1.0,\n",
       " 'e(cmdline)': 'didregress (satis) (proc), group(hospital) time(month)',\n",
       " 'e(predict)': 'didregress_p',\n",
       " 'e(policytype)': 'binary',\n",
       " 'e(treatment_type)': 'binary',\n",
       " 'e(policy)': 'proc',\n",
       " 'e(treatment)': 'proc',\n",
       " 'e(data_type)': 'Repeated cross-sectional',\n",
       " 'e(estat_cmd)': 'didregress_estat',\n",
       " 'e(cmd)': 'didregress',\n",
       " 'e(plist)': 'satis  i.month proc',\n",
       " 'e(subcmd)': 'did',\n",
       " 'e(timevar)': 'month',\n",
       " 'e(absvar)': 'hospital',\n",
       " 'e(clustvar)': 'hospital',\n",
       " 'e(cmax)': '12',\n",
       " 'e(treatname)': 'proc',\n",
       " 'e(ynewname)': 'satis',\n",
       " 'e(tecmd)': 'areg',\n",
       " 'e(stripes)': ' ATET:r1vs0.proc Controls:1b.month Controls:2.month Controls:3.month Controls:4.month Controls:5.month Controls:6.month Controls:7.month Controls:_cons',\n",
       " 'e(storig)': 'proc 1b.month 2.month 3.month 4.month 5.month 6.month 7.month _cons',\n",
       " 'e(vcetype)': 'Robust',\n",
       " 'e(vce)': 'cluster',\n",
       " 'e(_contrast_not_ok)': '_ALL',\n",
       " 'e(marginsnotok)': '_ALL',\n",
       " 'e(created)': 'i.month',\n",
       " 'e(design)': 'Uniform',\n",
       " 'e(imbclust)': 'hospital',\n",
       " 'e(covariates)': '1b.month 2.month 3.month 4.month 5.month 6.month 7.month proc',\n",
       " 'e(continuo)': '0',\n",
       " 'e(groupvars)': 'hospital',\n",
       " 'e(properties)': 'b V',\n",
       " 'e(depvar)': 'satis',\n",
       " 'e(b)': array([[ 8.47987867e-01,  0.00000000e+00, -9.60765964e-03,\n",
       "          2.19685761e-02, -3.28387409e-03, -9.40273706e-03,\n",
       "         -3.83753999e-03, -1.11941486e-02,  3.44467505e+00]]),\n",
       " 'e(V)': array([[ 1.03118741e-03,  0.00000000e+00,  3.18455781e-05,\n",
       "          1.59994187e-05, -1.11980817e-04, -3.50734744e-04,\n",
       "          1.04136362e-05, -2.13996387e-04, -1.37104181e-04],\n",
       "        [ 0.00000000e+00,  0.00000000e+00,  0.00000000e+00,\n",
       "          0.00000000e+00,  0.00000000e+00,  0.00000000e+00,\n",
       "          0.00000000e+00,  0.00000000e+00,  0.00000000e+00],\n",
       "        [ 3.18455781e-05,  0.00000000e+00,  3.39728677e-04,\n",
       "          1.55678174e-04,  1.98479233e-04,  1.44759256e-04,\n",
       "          1.60020060e-04,  2.18598919e-04, -1.58779569e-04],\n",
       "        [ 1.59994187e-05,  0.00000000e+00,  1.55678174e-04,\n",
       "          3.33097502e-04,  1.89034442e-04,  8.88848579e-05,\n",
       "          5.15022228e-05,  9.82714543e-05, -1.17885279e-04],\n",
       "        [-1.11980817e-04,  0.00000000e+00,  1.98479233e-04,\n",
       "          1.89034442e-04,  4.88535904e-04,  1.70964795e-04,\n",
       "          1.09341618e-04,  2.63023333e-04, -1.54138674e-04],\n",
       "        [-3.50734744e-04,  0.00000000e+00,  1.44759256e-04,\n",
       "          8.88848579e-05,  1.70964795e-04,  5.40092858e-04,\n",
       "          8.68400004e-05,  3.51897879e-04, -1.00003025e-04],\n",
       "        [ 1.04136362e-05,  0.00000000e+00,  1.60020060e-04,\n",
       "          5.15022228e-05,  1.09341618e-04,  8.68400004e-05,\n",
       "          3.63413006e-04,  1.43090146e-04, -1.16441149e-04],\n",
       "        [-2.13996387e-04,  0.00000000e+00,  2.18598919e-04,\n",
       "          9.82714543e-05,  2.63023333e-04,  3.51897879e-04,\n",
       "          1.43090146e-04,  5.29134286e-04, -1.56006554e-04],\n",
       "        [-1.37104181e-04,  0.00000000e+00, -1.58779569e-04,\n",
       "         -1.17885279e-04, -1.54138674e-04, -1.00003025e-04,\n",
       "         -1.16441149e-04, -1.56006554e-04,  1.28914328e-04]]),\n",
       " 'e(group_count)': array([[2.80000000e+001, 1.00000000e+000, 1.00000000e+000],\n",
       "        [1.80000000e+001, 4.00000000e+000, 4.00000000e+000],\n",
       "        [4.60000000e+001, 9.04552136e+307, 9.04552136e+307]])}"
      ]
     },
     "execution_count": 14,
     "metadata": {},
     "output_type": "execute_result"
    }
   ],
   "source": [
    "dideret"
   ]
  },
  {
   "cell_type": "code",
   "execution_count": 15,
   "id": "dc376e3a",
   "metadata": {},
   "outputs": [
    {
     "data": {
      "text/plain": [
       "array([[2.80000000e+001, 1.00000000e+000, 1.00000000e+000],\n",
       "       [1.80000000e+001, 4.00000000e+000, 4.00000000e+000],\n",
       "       [4.60000000e+001, 9.04552136e+307, 9.04552136e+307]])"
      ]
     },
     "execution_count": 15,
     "metadata": {},
     "output_type": "execute_result"
    }
   ],
   "source": [
    "dideret['e(group_count)']"
   ]
  },
  {
   "cell_type": "code",
   "execution_count": 16,
   "id": "fb48ae48",
   "metadata": {},
   "outputs": [
    {
     "data": {
      "text/plain": [
       "28.0"
      ]
     },
     "execution_count": 16,
     "metadata": {},
     "output_type": "execute_result"
    }
   ],
   "source": [
    "dideret['e(group_count)'][0,0]"
   ]
  },
  {
   "cell_type": "code",
   "execution_count": 17,
   "id": "955535e2",
   "metadata": {},
   "outputs": [
    {
     "name": "stdout",
     "output_type": "stream",
     "text": [
      "Of the 46 hospitals in this provider's network, 18 implemented the new admissions procedure. These hospitals had an \n",
      "0.85-point increase in patient satisfaction relative to the case where they do not implement the new policy (95% CI [0.783, 0.913]).\n"
     ]
    }
   ],
   "source": [
    "#print results using string interpolation\n",
    "print(\"Of the %2.0f hospitals in this provider's network, %2.0f implemented the new admissions procedure. These hospitals had an \\n%4.2f-point increase in patient satisfaction relative to the case where they do not implement the new policy (95%% CI [%4.3f, %4.3f]).\" \n",
    "      % (dideret['e(group_count)'][2][0], dideret['e(group_count)'][1][0], didret['r(table)'][0][0], didret['r(table)'][4,0], didret['r(table)'][5,0]))"
   ]
  },
  {
   "cell_type": "code",
   "execution_count": 18,
   "id": "b21ec8c8",
   "metadata": {
    "scrolled": false
   },
   "outputs": [
    {
     "name": "stdout",
     "output_type": "stream",
     "text": [
      "\n",
      ". estat trendplots, scheme(economist)\n",
      "\n",
      ". estat ptrend\n",
      "\n",
      "Parallel-trends test (pretreatment time period)\n",
      "H0: Linear trends are parallel\n",
      "\n",
      "F(1, 45) =   0.55\n",
      "Prob > F = 0.4615\n",
      "\n",
      ". estat granger\n",
      "\n",
      "Granger causality test\n",
      "H0: No effect in anticipation of treatment\n",
      "\n",
      "F(2, 45) =   0.33\n",
      "Prob > F = 0.7239\n",
      "\n",
      ". \n"
     ]
    },
    {
     "data": {
      "image/png": "[encoded data removed]",
      "text/plain": [
       "<IPython.core.display.Image object>"
      ]
     },
     "metadata": {},
     "output_type": "display_data"
    }
   ],
   "source": [
    "%%stata -gw 5\n",
    "estat trendplots, scheme(economist)\n",
    "estat ptrend\n",
    "estat granger"
   ]
  },
  {
   "cell_type": "code",
   "execution_count": 19,
   "id": "a11929a9",
   "metadata": {},
   "outputs": [
    {
     "name": "stdout",
     "output_type": "stream",
     "text": [
      "\n"
     ]
    }
   ],
   "source": [
    "%%stata -qui -nogr\n",
    "estat trendplots, scheme(economist)\n",
    "graph export ptrend.png, replace"
   ]
  },
  {
   "attachments": {
    "ptrend.png": {
     "image/png": "[encoded data removed]"
    }
   },
   "cell_type": "markdown",
   "id": "b0b07f83",
   "metadata": {},
   "source": [
    "![ptrend.png](attachment:ptrend.png)"
   ]
  },
  {
   "cell_type": "markdown",
   "id": "c2a51aa7",
   "metadata": {},
   "source": [
    "#### <center>Figure 1. Parallel trends plot</center>"
   ]
  },
  {
   "cell_type": "markdown",
   "id": "658f7a0d",
   "metadata": {},
   "source": [
    "Can also use html and adjust width/height\n",
    "<img src=\"ptrend.png\" alt=\"ptrend\" width=500/>"
   ]
  },
  {
   "cell_type": "markdown",
   "id": "2cccbfa0",
   "metadata": {},
   "source": [
    "### Risk of HIV infection: A survival analysis"
   ]
  },
  {
   "cell_type": "markdown",
   "id": "9fc5385b",
   "metadata": {},
   "source": [
    "The following analysis will use a semiparametric Cox proportional hazards model to estimate the influence of needle sharing on risk of HIV infection in interval-censored survival-time data. For each patient, we have recorded the date of their last doctor visit prior to infection (ltime) and their first visit with a positive test result (rtime). It is unknown at what precise time they were infected in between visits. \n",
    "\n",
    "We would like to fit the following model for the hazard function of the HIV infection time:\n",
    "\n",
    "$$ h(t;needle) = h_{0}(t)exp({\\beta_{1}}needle) $$\n",
    "\n",
    "where $\\beta_{1}$ is the regression coefficient for $needle$ and $h_{0}(t)$ is an arbitrary baseline hazard function."
   ]
  },
  {
   "cell_type": "code",
   "execution_count": 20,
   "id": "94f83144",
   "metadata": {},
   "outputs": [],
   "source": [
    "#import data\n",
    "dfnp = np.loadtxt('idu.txt')"
   ]
  },
  {
   "cell_type": "code",
   "execution_count": 21,
   "id": "8d6ce0af",
   "metadata": {},
   "outputs": [
    {
     "name": "stdout",
     "output_type": "stream",
     "text": [
      "\n",
      "    Variable |        Obs        Mean    Std. dev.       Min        Max\n",
      "-------------+---------------------------------------------------------\n",
      "          v1 |      1,124    31.46174    7.699114         17         52\n",
      "          v2 |      1,124    .9323843     .251197          0          1\n",
      "          v3 |      1,124    .3576512    .4795221          0          1\n",
      "          v4 |      1,124    .6690391    .4707685          0          1\n",
      "          v5 |      1,124    .3718861    .4835234          0          1\n",
      "-------------+---------------------------------------------------------\n",
      "          v6 |      1,124    24.17476    11.77005          0   42.52459\n",
      "          v7 |      1,124   -879.1146    327.4094       -999   39.93443\n",
      "          v8 |      1,124    2.18e-15    7.699114  -14.46174   20.53826\n"
     ]
    }
   ],
   "source": [
    "%%stata -d dfnp -force\n",
    "summarize"
   ]
  },
  {
   "cell_type": "code",
   "execution_count": 22,
   "id": "d4d926ec",
   "metadata": {},
   "outputs": [
    {
     "name": "stdout",
     "output_type": "stream",
     "text": [
      "\n",
      ". replace v7 = . if v7==-999\n",
      "(991 real changes made, 991 to missing)\n",
      "\n",
      ". rename v3 needle\n",
      "\n",
      ". rename v6 ltime\n",
      "\n",
      ". rename v7 rtime\n",
      "\n",
      ". label define yesno 0 \"No\" 1 \"Yes\"\n",
      "\n",
      ". label values needle yesno\n",
      "\n",
      ". summarize\n",
      "\n",
      "    Variable |        Obs        Mean    Std. dev.       Min        Max\n",
      "-------------+---------------------------------------------------------\n",
      "          v1 |      1,124    31.46174    7.699114         17         52\n",
      "          v2 |      1,124    .9323843     .251197          0          1\n",
      "      needle |      1,124    .3576512    .4795221          0          1\n",
      "          v4 |      1,124    .6690391    .4707685          0          1\n",
      "          v5 |      1,124    .3718861    .4835234          0          1\n",
      "-------------+---------------------------------------------------------\n",
      "       ltime |      1,124    24.17476    11.77005          0   42.52459\n",
      "       rtime |        133    14.16714    9.258214   3.442623   39.93443\n",
      "          v8 |      1,124    2.18e-15    7.699114  -14.46174   20.53826\n",
      "\n",
      ". \n"
     ]
    }
   ],
   "source": [
    "%%stata\n",
    "replace v7 = . if v7==-999\n",
    "rename v3 needle\n",
    "rename v6 ltime\n",
    "rename v7 rtime\n",
    "label define yesno 0 \"No\" 1 \"Yes\"\n",
    "label values needle yesno\n",
    "summarize"
   ]
  },
  {
   "cell_type": "code",
   "execution_count": 23,
   "id": "fbea23d4",
   "metadata": {},
   "outputs": [
    {
     "name": "stdout",
     "output_type": "stream",
     "text": [
      "\n",
      ". stintcox i.needle, interval(ltime rtime) nolog\n",
      "note: using adaptive step size to compute derivatives.\n",
      "\n",
      "Performing EM optimization ...\n",
      "\n",
      "Computing standard errors ...\n",
      "\n",
      "Interval-censored Cox regression                    Number of obs     =  1,124\n",
      "Baseline hazard: Reduced intervals                         Uncensored =      0\n",
      "                                                        Left-censored =     41\n",
      "                                                       Right-censored =    991\n",
      "                                                       Interval-cens. =     92\n",
      "\n",
      "                                                    Wald chi2(1)      =   6.28\n",
      "Log likelihood = -605.4762                          Prob > chi2       = 0.0122\n",
      "\n",
      "------------------------------------------------------------------------------\n",
      "             |                 OPG\n",
      "             | Haz. ratio   std. err.      z    P>|z|     [95% conf. interval]\n",
      "-------------+----------------------------------------------------------------\n",
      "      needle |\n",
      "        Yes  |   1.548445   .2702025     2.51   0.012     1.099922    2.179866\n",
      "------------------------------------------------------------------------------\n",
      "Note: Standard-error estimates may be more variable for small datasets and\n",
      "      datasets with low proportions of interval-censored observations.\n",
      "\n",
      ". predict bs_l bs_u, basesurv\n",
      "\n",
      ". \n"
     ]
    }
   ],
   "source": [
    "%%stata -doutd idubase \n",
    "stintcox i.needle, interval(ltime rtime) nolog\n",
    "predict bs_l bs_u, basesurv"
   ]
  },
  {
   "cell_type": "code",
   "execution_count": 24,
   "id": "c80aa108",
   "metadata": {},
   "outputs": [
    {
     "data": {
      "text/plain": [
       "<bound method NDFrame.head of         v1   v2  needle   v4   v5      ltime          rtime         v8  \\\n",
       "0     37.0  1.0     0.0  1.0  1.0  40.557377  8.988466e+307   5.538256   \n",
       "1     25.0  1.0     0.0  1.0  1.0  24.262295  8.988466e+307  -6.461744   \n",
       "2     27.0  1.0     0.0  1.0  1.0  40.524590  8.988466e+307  -4.461744   \n",
       "3     31.0  1.0     0.0  0.0  0.0  11.737705  8.988466e+307  -0.461744   \n",
       "4     36.0  1.0     0.0  1.0  1.0  40.557377  8.988466e+307   4.538256   \n",
       "...    ...  ...     ...  ...  ...        ...            ...        ...   \n",
       "1119  32.0  1.0     0.0  1.0  0.0  24.131147  8.988466e+307   0.538256   \n",
       "1120  18.0  1.0     1.0  0.0  0.0   0.000000   3.672131e+00 -13.461744   \n",
       "1121  38.0  1.0     1.0  1.0  1.0   7.803279  8.988466e+307   6.538256   \n",
       "1122  19.0  1.0     1.0  1.0  0.0  23.672131  8.988466e+307 -12.461744   \n",
       "1123  25.0  1.0     0.0  1.0  1.0   4.131147  8.988466e+307  -6.461744   \n",
       "\n",
       "          bs_l      bs_u  \n",
       "0     0.871030  0.000000  \n",
       "1     0.893546  0.000000  \n",
       "2     0.871030  0.000000  \n",
       "3     0.940640  0.000000  \n",
       "4     0.871030  0.000000  \n",
       "...        ...       ...  \n",
       "1119  0.893546  0.000000  \n",
       "1120  1.000000  0.971634  \n",
       "1121  0.956900  0.000000  \n",
       "1122  0.904347  0.000000  \n",
       "1123  0.971330  0.000000  \n",
       "\n",
       "[1124 rows x 10 columns]>"
      ]
     },
     "execution_count": 24,
     "metadata": {},
     "output_type": "execute_result"
    }
   ],
   "source": [
    "#the idubase dataset includes the baseline survivor function based on the lower and upper endpoints\n",
    "idubase.head"
   ]
  },
  {
   "cell_type": "markdown",
   "id": "4d516740",
   "metadata": {},
   "source": [
    "## Stata API demonstration"
   ]
  },
  {
   "cell_type": "code",
   "execution_count": 25,
   "id": "f96ed1f8",
   "metadata": {},
   "outputs": [
    {
     "name": "stdout",
     "output_type": "stream",
     "text": [
      "    System information\n",
      "      Python version         3.9.7\n",
      "      Stata version          Stata 17.0 (MP)\n",
      "      Stata library path     C:\\Program Files\\Stata17\\mp-64.dll\n",
      "      Stata initialized      True\n",
      "      sfi initialized        True\n",
      "\n",
      "    Settings\n",
      "      graphic display        True\n",
      "      graphic size           width = 6.0in, height = default\n",
      "      graphic format         png\n"
     ]
    }
   ],
   "source": [
    "config.status()\n",
    "#replicates %pystata status"
   ]
  },
  {
   "cell_type": "code",
   "execution_count": 26,
   "id": "bafdff56",
   "metadata": {},
   "outputs": [
    {
     "name": "stdout",
     "output_type": "stream",
     "text": [
      "    System information\n",
      "      Python version         3.9.7\n",
      "      Stata version          Stata 17.0 (MP)\n",
      "      Stata library path     C:\\Program Files\\Stata17\\mp-64.dll\n",
      "      Stata initialized      True\n",
      "      sfi initialized        True\n",
      "\n",
      "    Settings\n",
      "      graphic display        True\n",
      "      graphic size           width = 4in, height = 6in\n",
      "      graphic format         png\n"
     ]
    }
   ],
   "source": [
    "config.set_graph_size(width=4,height=6)\n",
    "#replicates %pystata set graph_size\n",
    "config.status()"
   ]
  },
  {
   "cell_type": "code",
   "execution_count": 27,
   "id": "00251d5a",
   "metadata": {},
   "outputs": [
    {
     "name": "stdout",
     "output_type": "stream",
     "text": [
      "\n",
      "    Variable |        Obs        Mean    Std. dev.       Min        Max\n",
      "-------------+---------------------------------------------------------\n",
      "        var1 |      1,124    31.46174    7.699114         17         52\n",
      "        var2 |      1,124    .9323843     .251197          0          1\n",
      "        var3 |      1,124    .3576512    .4795221          0          1\n",
      "        var4 |      1,124    .6690391    .4707685          0          1\n",
      "        var5 |      1,124    .3718861    .4835234          0          1\n",
      "-------------+---------------------------------------------------------\n",
      "        var6 |      1,124    24.17476    11.77005          0   42.52459\n",
      "        var7 |      1,124   -879.1146    327.4094       -999   39.93443\n",
      "        var8 |      1,124    2.18e-15    7.699114  -14.46174   20.53826\n"
     ]
    }
   ],
   "source": [
    "stata.nparray_to_data(dfnp,prefix='var',force=True)\n",
    "#replicates %%stata -d -force, but with added option prefix\n",
    "stata.run(\"summarize\")"
   ]
  },
  {
   "cell_type": "code",
   "execution_count": 28,
   "id": "0c0bc2e1",
   "metadata": {},
   "outputs": [
    {
     "name": "stdout",
     "output_type": "stream",
     "text": [
      "\n",
      ". \n",
      ". replace var7 = . if var7==-999\n",
      "(991 real changes made, 991 to missing)\n",
      "\n",
      ". rename var3 needle\n",
      "\n",
      ". rename var6 ltime\n",
      "\n",
      ". rename var7 rtime\n",
      "\n",
      ". label define yesno 0 \"No\" 1 \"Yes\"\n",
      "\n",
      ". label values needle yesno\n",
      "\n",
      ". summarize\n",
      "\n",
      "    Variable |        Obs        Mean    Std. dev.       Min        Max\n",
      "-------------+---------------------------------------------------------\n",
      "        var1 |      1,124    31.46174    7.699114         17         52\n",
      "        var2 |      1,124    .9323843     .251197          0          1\n",
      "      needle |      1,124    .3576512    .4795221          0          1\n",
      "        var4 |      1,124    .6690391    .4707685          0          1\n",
      "        var5 |      1,124    .3718861    .4835234          0          1\n",
      "-------------+---------------------------------------------------------\n",
      "       ltime |      1,124    24.17476    11.77005          0   42.52459\n",
      "       rtime |        133    14.16714    9.258214   3.442623   39.93443\n",
      "        var8 |      1,124    2.18e-15    7.699114  -14.46174   20.53826\n",
      "\n",
      ". \n"
     ]
    }
   ],
   "source": [
    "# data cleaning\n",
    "stata.run('''\n",
    "replace var7 = . if var7==-999\n",
    "rename var3 needle\n",
    "rename var6 ltime\n",
    "rename var7 rtime\n",
    "label define yesno 0 \"No\" 1 \"Yes\"\n",
    "label values needle yesno\n",
    "summarize''')\n",
    "#replicates %%stata"
   ]
  },
  {
   "cell_type": "code",
   "execution_count": 29,
   "id": "534e1239",
   "metadata": {},
   "outputs": [
    {
     "name": "stdout",
     "output_type": "stream",
     "text": [
      "\n",
      "    Variable |        Obs        Mean    Std. dev.       Min        Max\n",
      "-------------+---------------------------------------------------------\n",
      "        var1 |      1,124    31.46174    7.699114         17         52\n",
      "        var2 |      1,124    .9323843     .251197          0          1\n",
      "      needle |      1,124    .3576512    .4795221          0          1\n",
      "        var4 |      1,124    .6690391    .4707685          0          1\n",
      "        var5 |      1,124    .3718861    .4835234          0          1\n",
      "-------------+---------------------------------------------------------\n",
      "       ltime |      1,124    24.17476    11.77005          0   42.52459\n",
      "       rtime |        133    14.16714    9.258214   3.442623   39.93443\n",
      "        var8 |      1,124    2.18e-15    7.699114  -14.46174   20.53826\n"
     ]
    }
   ],
   "source": [
    "stata.run('summarize')\n",
    "#replicates %stata"
   ]
  },
  {
   "cell_type": "code",
   "execution_count": 30,
   "id": "648e34bf",
   "metadata": {},
   "outputs": [
    {
     "name": "stdout",
     "output_type": "stream",
     "text": [
      ". summarize\n",
      "\n",
      "    Variable |        Obs        Mean    Std. dev.       Min        Max\n",
      "-------------+---------------------------------------------------------\n",
      "        var1 |      1,124    31.46174    7.699114         17         52\n",
      "        var2 |      1,124    .9323843     .251197          0          1\n",
      "      needle |      1,124    .3576512    .4795221          0          1\n",
      "        var4 |      1,124    .6690391    .4707685          0          1\n",
      "        var5 |      1,124    .3718861    .4835234          0          1\n",
      "-------------+---------------------------------------------------------\n",
      "       ltime |      1,124    24.17476    11.77005          0   42.52459\n",
      "       rtime |        133    14.16714    9.258214   3.442623   39.93443\n",
      "        var8 |      1,124    2.18e-15    7.699114  -14.46174   20.53826\n"
     ]
    }
   ],
   "source": [
    "stata.run('summarize',echo=True)\n",
    "#replicates %%stata"
   ]
  },
  {
   "cell_type": "code",
   "execution_count": 31,
   "id": "de117c80",
   "metadata": {},
   "outputs": [
    {
     "name": "stdout",
     "output_type": "stream",
     "text": [
      "note: using adaptive step size to compute derivatives.\n",
      "\n",
      "Performing EM optimization ...\n",
      "\n",
      "Computing standard errors ...\n",
      "\n",
      "Interval-censored Cox regression                    Number of obs     =  1,124\n",
      "Baseline hazard: Reduced intervals                         Uncensored =      0\n",
      "                                                        Left-censored =     41\n",
      "                                                       Right-censored =    991\n",
      "                                                       Interval-cens. =     92\n",
      "\n",
      "                                                    Wald chi2(1)      =   6.28\n",
      "Log likelihood = -605.4762                          Prob > chi2       = 0.0122\n",
      "\n",
      "------------------------------------------------------------------------------\n",
      "             |                 OPG\n",
      "             | Haz. ratio   std. err.      z    P>|z|     [95% conf. interval]\n",
      "-------------+----------------------------------------------------------------\n",
      "      needle |\n",
      "        Yes  |   1.548445   .2702025     2.51   0.012     1.099922    2.179866\n",
      "------------------------------------------------------------------------------\n",
      "Note: Standard-error estimates may be more variable for small datasets and\n",
      "      datasets with low proportions of interval-censored observations.\n"
     ]
    }
   ],
   "source": [
    "stata.run(\"stintcox i.needle, interval(ltime rtime) nolog\")"
   ]
  },
  {
   "cell_type": "code",
   "execution_count": 32,
   "id": "d8af972e",
   "metadata": {},
   "outputs": [
    {
     "name": "stdout",
     "output_type": "stream",
     "text": [
      "\n"
     ]
    },
    {
     "data": {
      "image/png": "[encoded data removed]",
      "text/plain": [
       "<IPython.core.display.Image object>"
      ]
     },
     "metadata": {},
     "output_type": "display_data"
    }
   ],
   "source": [
    "stata.run('''\n",
    "predict bs_l bs_u, basesurv\n",
    "stcurve, survival at(needle=(0 1))\n",
    "''', quietly=True)\n",
    "#replicates %%stata -qui "
   ]
  },
  {
   "cell_type": "code",
   "execution_count": 33,
   "id": "e9a34d35",
   "metadata": {},
   "outputs": [
    {
     "name": "stdout",
     "output_type": "stream",
     "text": [
      "\n",
      ". \n",
      ". stcurve, survival at(needle=(0 1))\n",
      "\n",
      ". graph export stcurve.png, replace\n",
      "(file stcurve.png not found)\n",
      "file stcurve.png written in PNG format\n",
      "\n",
      ". \n"
     ]
    }
   ],
   "source": [
    "stata.run('''\n",
    "stcurve, survival at(needle=(0 1))\n",
    "graph export stcurve.png, replace\n",
    "''', inline=False)\n",
    "#replicates %%stata -nogr"
   ]
  },
  {
   "cell_type": "code",
   "execution_count": 34,
   "id": "60f39c0c",
   "metadata": {},
   "outputs": [],
   "source": [
    "# just import baseline survivor variables back into Python\n",
    "baselines = stata.nparray_from_data(var=\"bs_l bs_u\", missingval=-999)"
   ]
  },
  {
   "cell_type": "code",
   "execution_count": 35,
   "id": "738cd98f",
   "metadata": {},
   "outputs": [],
   "source": [
    "#or, just import the patients who have shared needles from the first 100 observations\n",
    "needle100 = stata.pdataframe_from_data(selectvar='needle', obs=range(100))"
   ]
  },
  {
   "cell_type": "code",
   "execution_count": 36,
   "id": "8cd425c2",
   "metadata": {},
   "outputs": [
    {
     "data": {
      "text/plain": [
       "array([0.87102968, 0.89354628, 0.87102968, ..., 0.95689958, 0.90434688,\n",
       "       0.97132963])"
      ]
     },
     "execution_count": 36,
     "metadata": {},
     "output_type": "execute_result"
    }
   ],
   "source": [
    "#refer to the lower endpoint of the baseline survivor function\n",
    "baselines[:,0]"
   ]
  },
  {
   "cell_type": "code",
   "execution_count": 37,
   "id": "0f38c09b",
   "metadata": {},
   "outputs": [
    {
     "data": {
      "text/plain": [
       "<bound method NDFrame.head of     var1  var2  needle  var4  var5      ltime          rtime       var8  \\\n",
       "0   49.0   1.0     1.0   1.0   1.0   0.000000   4.131147e+00  17.538256   \n",
       "1   21.0   1.0     1.0   0.0   0.0  11.639344  8.988466e+307 -10.461744   \n",
       "2   43.0   1.0     1.0   0.0   0.0  40.065575  8.988466e+307  11.538256   \n",
       "3   42.0   0.0     1.0   1.0   1.0  20.098360  8.988466e+307  10.538256   \n",
       "4   22.0   1.0     1.0   0.0   0.0  40.098362  8.988466e+307  -9.461744   \n",
       "5   35.0   1.0     1.0   1.0   1.0  26.786884  8.988466e+307   3.538256   \n",
       "6   29.0   1.0     1.0   1.0   1.0   7.147541  8.988466e+307  -2.461744   \n",
       "7   35.0   1.0     1.0   0.0   0.0  27.475410  8.988466e+307   3.538256   \n",
       "8   23.0   0.0     1.0   1.0   0.0  23.147541  8.988466e+307  -8.461744   \n",
       "9   27.0   1.0     1.0   0.0   0.0  23.147541  8.988466e+307  -4.461744   \n",
       "10  23.0   1.0     1.0   1.0   1.0   3.672131  8.988466e+307  -8.461744   \n",
       "11  24.0   0.0     1.0   1.0   1.0  23.868853  8.988466e+307  -7.461744   \n",
       "12  37.0   1.0     1.0   1.0   1.0  20.196722  8.988466e+307   5.538256   \n",
       "13  45.0   1.0     1.0   1.0   1.0  21.836065  8.988466e+307  13.538256   \n",
       "14  40.0   1.0     1.0   0.0   1.0  23.836065  8.988466e+307   8.538256   \n",
       "15  21.0   1.0     1.0   1.0   0.0  20.196722  8.988466e+307 -10.461744   \n",
       "16  35.0   1.0     1.0   1.0   1.0  23.868853  8.988466e+307   3.538256   \n",
       "17  44.0   1.0     1.0   1.0   1.0   7.573771  8.988466e+307  12.538256   \n",
       "18  34.0   1.0     1.0   1.0   1.0   3.967213  8.988466e+307   2.538256   \n",
       "19  38.0   1.0     1.0   1.0   1.0  23.868853  8.988466e+307   6.538256   \n",
       "20  30.0   1.0     1.0   0.0   0.0  23.868853  8.988466e+307  -1.461744   \n",
       "21  26.0   1.0     1.0   1.0   1.0  19.836065  8.988466e+307  -5.461744   \n",
       "22  22.0   1.0     1.0   0.0   0.0  28.655737  8.988466e+307  -9.461744   \n",
       "23  23.0   0.0     1.0   1.0   1.0  28.163935  8.988466e+307  -8.461744   \n",
       "24  19.0   1.0     1.0   1.0   1.0  20.327869  8.988466e+307 -12.461744   \n",
       "25  23.0   1.0     1.0   1.0   0.0  27.704918  8.988466e+307  -8.461744   \n",
       "26  37.0   1.0     1.0   1.0   0.0  27.475410  8.988466e+307   5.538256   \n",
       "27  22.0   1.0     1.0   1.0   0.0  26.098360  8.988466e+307  -9.461744   \n",
       "28  19.0   1.0     1.0   1.0   1.0  26.786884  8.988466e+307 -12.461744   \n",
       "29  23.0   1.0     1.0   1.0   1.0  24.983606  8.988466e+307  -8.461744   \n",
       "30  38.0   1.0     1.0   1.0   1.0  26.098360  8.988466e+307   6.538256   \n",
       "\n",
       "        bs_l     bs_u  \n",
       "0   1.000000  0.97133  \n",
       "1   0.940640  0.00000  \n",
       "2   0.871030  0.00000  \n",
       "3   0.912942  0.00000  \n",
       "4   0.871030  0.00000  \n",
       "5   0.893522  0.00000  \n",
       "6   0.968545  0.00000  \n",
       "7   0.893522  0.00000  \n",
       "8   0.907482  0.00000  \n",
       "9   0.907482  0.00000  \n",
       "10  0.971634  0.00000  \n",
       "11  0.893546  0.00000  \n",
       "12  0.912942  0.00000  \n",
       "13  0.907482  0.00000  \n",
       "14  0.893546  0.00000  \n",
       "15  0.912942  0.00000  \n",
       "16  0.893546  0.00000  \n",
       "17  0.958009  0.00000  \n",
       "18  0.971333  0.00000  \n",
       "19  0.893546  0.00000  \n",
       "20  0.893546  0.00000  \n",
       "21  0.912942  0.00000  \n",
       "22  0.893522  0.00000  \n",
       "23  0.893522  0.00000  \n",
       "24  0.907500  0.00000  \n",
       "25  0.893522  0.00000  \n",
       "26  0.893522  0.00000  \n",
       "27  0.893522  0.00000  \n",
       "28  0.893522  0.00000  \n",
       "29  0.893522  0.00000  \n",
       "30  0.893522  0.00000  >"
      ]
     },
     "execution_count": 37,
     "metadata": {},
     "output_type": "execute_result"
    }
   ],
   "source": [
    "needle100.head"
   ]
  },
  {
   "cell_type": "code",
   "execution_count": 38,
   "id": "1fae712c",
   "metadata": {},
   "outputs": [
    {
     "data": {
      "text/plain": [
       "{'e(emtolerance)': 3.57651933372e-06,\n",
       " 'e(emiterate)': 296.0,\n",
       " 'e(tolerance)': 1e-06,\n",
       " 'e(epsilon)': 1e-06,\n",
       " 'e(converged)': 1.0,\n",
       " 'e(ic)': 296.0,\n",
       " 'e(rank)': 1.0,\n",
       " 'e(p)': 0.012219213303774077,\n",
       " 'e(chi2)': 6.278780872182784,\n",
       " 'e(df_m)': 1.0,\n",
       " 'e(ll)': -605.4761970828787,\n",
       " 'e(k_dv)': 2.0,\n",
       " 'e(k_eq_model)': 1.0,\n",
       " 'e(k_eq)': 1.0,\n",
       " 'e(k)': 2.0,\n",
       " 'e(N_int)': 92.0,\n",
       " 'e(N_rc)': 991.0,\n",
       " 'e(N_lc)': 41.0,\n",
       " 'e(N_unc)': 0.0,\n",
       " 'e(N)': 1124.0,\n",
       " 'e(vcetolerance)': 1e-06,\n",
       " 'e(vceiterate)': 5000.0,\n",
       " 'e(noemhsgtolerance)': 0.0,\n",
       " 'e(emhsgtolerance)': 3.11559887692e-08,\n",
       " 'e(emltolerance)': 9.67506268359e-08,\n",
       " 'e(cmdline)': 'stintcox i.needle, interval(ltime rtime) nolog',\n",
       " 'e(cmd)': 'stintcox',\n",
       " 'e(depvar)': 'ltime rtime',\n",
       " 'e(title2)': 'Baseline hazard: Reduced intervals',\n",
       " 'e(title)': 'Interval-censored Cox regression',\n",
       " 'e(chi2type)': 'Wald',\n",
       " 'e(vcetype)': 'OPG',\n",
       " 'e(vce)': 'opg',\n",
       " 'e(stepsize)': 'adaptive',\n",
       " 'e(predict)': 'stintcox_p',\n",
       " 'e(_coef_table_props)': 'censored groupvar',\n",
       " 'e(marginsok)': 'default xb hr',\n",
       " 'e(marginsnotok)': 'stdp BASESurv BASEChazard basehc MGale',\n",
       " 'e(filename)': 'C:\\\\Users\\\\megha\\\\AppData\\\\Local\\\\Temp\\\\STB5e1c_000001.tmp',\n",
       " 'e(crittype)': 'log likelihood',\n",
       " 'e(eps_str)': '1.00000000000e-06',\n",
       " 'e(intervals)': 'reduced',\n",
       " 'e(properties)': 'b V',\n",
       " 'e(b)': array([[0.        , 0.43725138]]),\n",
       " 'e(V)': array([[0.        , 0.        ],\n",
       "        [0.        , 0.03044998]]),\n",
       " 'e(baseq)': array([[3.44262290e+00, 1.40287682e-02],\n",
       "        [3.63934422e+00, 1.47468588e-02],\n",
       "        [3.67213106e+00, 2.34993824e-09],\n",
       "        [3.70491815e+00, 7.30488706e-09],\n",
       "        [3.86885238e+00, 1.70290570e-12],\n",
       "        [3.90163946e+00, 4.08128932e-06],\n",
       "        [3.93442631e+00, 3.05869113e-04],\n",
       "        [3.96721315e+00, 8.52312554e-11],\n",
       "        [4.03278685e+00, 1.31466068e-11],\n",
       "        [4.06557369e+00, 9.69771442e-13],\n",
       "        [4.09836054e+00, 9.11253159e-24],\n",
       "        [4.13114738e+00, 3.78257445e-06],\n",
       "        [4.16393423e+00, 2.19598428e-03],\n",
       "        [4.32786894e+00, 6.74355246e-04],\n",
       "        [4.36065578e+00, 5.46209000e-07],\n",
       "        [4.42622948e+00, 4.54849275e-10],\n",
       "        [4.55737686e+00, 1.06252013e-16],\n",
       "        [5.27868843e+00, 9.81909923e-16],\n",
       "        [6.32786894e+00, 1.08047240e-09],\n",
       "        [7.27868843e+00, 4.07773053e-03],\n",
       "        [7.54098368e+00, 6.79249715e-03],\n",
       "        [7.57377052e+00, 6.74894991e-05],\n",
       "        [7.60655737e+00, 2.40739703e-06],\n",
       "        [7.80327892e+00, 1.15641700e-03],\n",
       "        [7.96721315e+00, 3.39084607e-03],\n",
       "        [8.00000000e+00, 4.86345835e-09],\n",
       "        [8.03278732e+00, 1.31237376e-12],\n",
       "        [8.06557369e+00, 1.38362532e-18],\n",
       "        [8.13114738e+00, 3.06722583e-25],\n",
       "        [8.22950840e+00, 9.52337129e-33],\n",
       "        [8.49180317e+00, 1.00650180e-09],\n",
       "        [8.65573788e+00, 1.09700735e-05],\n",
       "        [9.34426212e+00, 1.15190843e-02],\n",
       "        [9.60655785e+00, 1.46532964e-07],\n",
       "        [1.09508200e+01, 2.17311210e-03],\n",
       "        [1.09836063e+01, 4.42643111e-05],\n",
       "        [1.11803274e+01, 9.41557233e-09],\n",
       "        [1.15081968e+01, 3.77981444e-28],\n",
       "        [1.16721315e+01, 2.05566774e-44],\n",
       "        [1.17049179e+01, 2.13270120e-44],\n",
       "        [1.17377052e+01, 4.75036883e-49],\n",
       "        [1.19344263e+01, 1.14776408e-37],\n",
       "        [1.20000000e+01, 1.48898959e-18],\n",
       "        [1.21639347e+01, 2.65412876e-22],\n",
       "        [1.23606558e+01, 7.09842934e-10],\n",
       "        [1.25901642e+01, 5.22523801e-03],\n",
       "        [1.32131147e+01, 9.15585194e-09],\n",
       "        [1.45901642e+01, 5.19568655e-04],\n",
       "        [1.51803274e+01, 7.81695639e-16],\n",
       "        [1.56393442e+01, 7.70100934e-03],\n",
       "        [1.57704916e+01, 3.84828500e-12],\n",
       "        [1.58360653e+01, 9.19214497e-14],\n",
       "        [1.59672127e+01, 1.44812037e-03],\n",
       "        [1.60327873e+01, 8.76603423e-03],\n",
       "        [1.60655746e+01, 8.02791362e-13],\n",
       "        [1.61967220e+01, 3.46717518e-03],\n",
       "        [1.62950821e+01, 4.73414613e-09],\n",
       "        [1.65573769e+01, 2.76042119e-03],\n",
       "        [1.71803284e+01, 6.73744155e-15],\n",
       "        [1.81311474e+01, 2.48551156e-21],\n",
       "        [1.83934422e+01, 1.86007276e-23],\n",
       "        [1.91147537e+01, 7.80935270e-29],\n",
       "        [1.94426231e+01, 4.64766525e-34],\n",
       "        [1.97049179e+01, 1.83525597e-22],\n",
       "        [1.99016399e+01, 7.84038685e-49],\n",
       "        [2.03278694e+01, 5.97940895e-03],\n",
       "        [2.03606548e+01, 1.47285348e-19],\n",
       "        [2.04918041e+01, 3.51014436e-21],\n",
       "        [2.09180336e+01, 1.92796237e-05],\n",
       "        [2.19016399e+01, 5.64361190e-08],\n",
       "        [2.19672127e+01, 8.18671954e-11],\n",
       "        [2.27213116e+01, 4.82948014e-13],\n",
       "        [2.34098358e+01, 3.46073475e-03],\n",
       "        [2.37704926e+01, 1.20148482e-02],\n",
       "        [2.38360653e+01, 5.08363127e-10],\n",
       "        [2.40655746e+01, 2.70716158e-16],\n",
       "        [2.41311474e+01, 8.75092695e-34],\n",
       "        [2.43606548e+01, 1.51339705e-42],\n",
       "        [2.44262295e+01, 1.57536116e-53],\n",
       "        [2.47213116e+01, 2.74491095e-05],\n",
       "        [2.47868843e+01, 5.00602552e-17],\n",
       "        [2.50163937e+01, 2.65145387e-20],\n",
       "        [2.50491810e+01, 6.70843492e-30],\n",
       "        [2.52131157e+01, 9.83457342e-33],\n",
       "        [2.72786884e+01, 2.88946678e-35],\n",
       "        [2.78360653e+01, 6.09563977e-31],\n",
       "        [2.80655746e+01, 7.41164764e-42],\n",
       "        [2.80983601e+01, 2.98184882e-59],\n",
       "        [2.92131157e+01, 3.48560592e-03],\n",
       "        [2.98032780e+01, 1.13318313e-68],\n",
       "        [3.25245895e+01, 7.92835008e-03],\n",
       "        [3.42295074e+01, 9.56789286e-07],\n",
       "        [3.66557388e+01, 1.40797490e-02],\n",
       "        [3.94426231e+01, 7.85068823e-14],\n",
       "        [3.96721306e+01, 3.03073135e-44],\n",
       "        [3.99344254e+01, 3.21015566e-80]])}"
      ]
     },
     "execution_count": 38,
     "metadata": {},
     "output_type": "execute_result"
    }
   ],
   "source": [
    "# Load all e-returned results into Python\n",
    "e = stata.get_ereturn()\n",
    "\n",
    "e"
   ]
  },
  {
   "cell_type": "code",
   "execution_count": 39,
   "id": "f4e466bd",
   "metadata": {},
   "outputs": [
    {
     "name": "stdout",
     "output_type": "stream",
     "text": [
      "There are 991 subjects who did not test positive for HIV-1 by the last visit, resulting in right-censored observations.\n",
      "There are 41 subjects who tested positive for HIV-1 at their first follow-up, resulting in left-censored observations. \n",
      "The remaining 92 subjects are interval-censored.\n"
     ]
    }
   ],
   "source": [
    "# Report different types of censoring\n",
    "print(\"There are %2.0f subjects who did not test positive for HIV-1 by the last visit, resulting in right-censored observations.\\nThere are %2.0f subjects who tested positive for HIV-1 at their first follow-up, resulting in left-censored observations. \\nThe remaining %2.0f subjects are interval-censored.\"\n",
    "      % (e['e(N_rc)'], e['e(N_lc)'], e['e(N_int)']))"
   ]
  },
  {
   "cell_type": "code",
   "execution_count": 40,
   "id": "032827a8",
   "metadata": {},
   "outputs": [
    {
     "name": "stdout",
     "output_type": "stream",
     "text": [
      "Patients with a history of needle sharing had a 55% increased risk of HIV infection.\n"
     ]
    }
   ],
   "source": [
    "# Or just load the results you need\n",
    "stata.run(\"stintcox i.needle, interval(ltime rtime) nolog\", quietly=True)\n",
    "beta = stata.get_return()['r(table)'][0,1]\n",
    "\n",
    "print(\"Patients with a history of needle sharing had a %2.0f%% increased risk of HIV infection.\" % ((beta-1)*100))"
   ]
  },
  {
   "cell_type": "markdown",
   "id": "40af28a3",
   "metadata": {},
   "source": [
    "#### sfi module\n",
    "You can also access specific returned results through the sfi module. For example:"
   ]
  },
  {
   "cell_type": "code",
   "execution_count": 45,
   "id": "2d4b1bb7",
   "metadata": {},
   "outputs": [],
   "source": [
    "from sfi import Scalar, Matrix\n",
    "n_rc = Scalar.getValue('e(N_rc)')\n",
    "n_lc = Scalar.getValue('e(N_lc)')\n",
    "n_int = Scalar.getValue('e(N_int)')"
   ]
  },
  {
   "cell_type": "markdown",
   "id": "3b7aa42d",
   "metadata": {},
   "source": [
    "Or, from our earlier example"
   ]
  },
  {
   "cell_type": "code",
   "execution_count": 48,
   "id": "9a890328",
   "metadata": {},
   "outputs": [
    {
     "ename": "NameError",
     "evalue": "name 'group_count' is not defined",
     "output_type": "error",
     "traceback": [
      "\u001b[1;31m---------------------------------------------------------------------------\u001b[0m",
      "\u001b[1;31mNameError\u001b[0m                                 Traceback (most recent call last)",
      "\u001b[1;32m~\\AppData\\Local\\Temp/ipykernel_24092/2507713107.py\u001b[0m in \u001b[0;36m<module>\u001b[1;34m\u001b[0m\n\u001b[1;32m----> 1\u001b[1;33m \u001b[0mgroup_count\u001b[0m \u001b[1;33m=\u001b[0m \u001b[0mnp\u001b[0m\u001b[1;33m.\u001b[0m\u001b[0marray\u001b[0m\u001b[1;33m(\u001b[0m\u001b[0mMatrix\u001b[0m\u001b[1;33m.\u001b[0m\u001b[0mget\u001b[0m\u001b[1;33m(\u001b[0m\u001b[0me\u001b[0m\u001b[1;33m(\u001b[0m\u001b[0mgroup_count\u001b[0m\u001b[1;33m)\u001b[0m\u001b[1;33m)\u001b[0m\u001b[1;33m)\u001b[0m\u001b[1;33m\u001b[0m\u001b[1;33m\u001b[0m\u001b[0m\n\u001b[0m",
      "\u001b[1;31mNameError\u001b[0m: name 'group_count' is not defined"
     ]
    }
   ],
   "source": [
    "group_count = np.array(Matrix.get(e(group_count)))\n"
   ]
  },
  {
   "cell_type": "code",
   "execution_count": 49,
   "id": "8dd161a6",
   "metadata": {},
   "outputs": [
    {
     "ename": "ValueError",
     "evalue": "matrix e(group_count) not found",
     "output_type": "error",
     "traceback": [
      "\u001b[1;31m---------------------------------------------------------------------------\u001b[0m",
      "\u001b[1;31mValueError\u001b[0m                                Traceback (most recent call last)",
      "\u001b[1;32m~\\AppData\\Local\\Temp/ipykernel_24092/3238451324.py\u001b[0m in \u001b[0;36m<module>\u001b[1;34m\u001b[0m\n\u001b[1;32m----> 1\u001b[1;33m \u001b[0mgroup_count\u001b[0m \u001b[1;33m=\u001b[0m \u001b[0mnp\u001b[0m\u001b[1;33m.\u001b[0m\u001b[0marray\u001b[0m\u001b[1;33m(\u001b[0m\u001b[0mMatrix\u001b[0m\u001b[1;33m.\u001b[0m\u001b[0mget\u001b[0m\u001b[1;33m(\u001b[0m\u001b[1;34m'e(group_count)'\u001b[0m\u001b[1;33m)\u001b[0m\u001b[1;33m)\u001b[0m\u001b[1;33m\u001b[0m\u001b[1;33m\u001b[0m\u001b[0m\n\u001b[0m",
      "\u001b[1;32mC:\\Program Files\\Stata17/ado\\base\\py\\sfi.py\u001b[0m in \u001b[0;36mget\u001b[1;34m(name, rows, cols)\u001b[0m\n\u001b[0;32m   3978\u001b[0m               \u001b[1;33m-\u001b[0m \u001b[0many\u001b[0m \u001b[0mof\u001b[0m \u001b[0mthe\u001b[0m \u001b[0mcolumn\u001b[0m \u001b[0mindices\u001b[0m \u001b[0mspecified\u001b[0m \u001b[1;32min\u001b[0m\u001b[0;31m \u001b[0m\u001b[0;31m`\u001b[0m\u001b[0mcols\u001b[0m\u001b[0;31m`\u001b[0m \u001b[1;32mis\u001b[0m \u001b[0mout\u001b[0m \u001b[0mof\u001b[0m \u001b[1;33m:\u001b[0m\u001b[0mref\u001b[0m\u001b[1;33m:\u001b[0m\u001b[0;31m`\u001b[0m\u001b[0mrange\u001b[0m \u001b[1;33m<\u001b[0m\u001b[0mref\u001b[0m\u001b[1;33m-\u001b[0m\u001b[0mmatrixrange\u001b[0m\u001b[1;33m>\u001b[0m\u001b[0;31m`\u001b[0m\u001b[1;33m.\u001b[0m\u001b[1;33m\u001b[0m\u001b[1;33m\u001b[0m\u001b[0m\n\u001b[0;32m   3979\u001b[0m         \"\"\"\n\u001b[1;32m-> 3980\u001b[1;33m         \u001b[0mncols\u001b[0m \u001b[1;33m=\u001b[0m \u001b[0m_stp\u001b[0m\u001b[1;33m.\u001b[0m\u001b[0m_st_getmatrixcol\u001b[0m\u001b[1;33m(\u001b[0m\u001b[0mname\u001b[0m\u001b[1;33m)\u001b[0m\u001b[1;33m\u001b[0m\u001b[1;33m\u001b[0m\u001b[0m\n\u001b[0m\u001b[0;32m   3981\u001b[0m \u001b[1;33m\u001b[0m\u001b[0m\n\u001b[0;32m   3982\u001b[0m         \u001b[1;32mif\u001b[0m \u001b[0mrows\u001b[0m \u001b[1;32mis\u001b[0m \u001b[1;32mNone\u001b[0m\u001b[1;33m:\u001b[0m\u001b[1;33m\u001b[0m\u001b[1;33m\u001b[0m\u001b[0m\n",
      "\u001b[1;31mValueError\u001b[0m: matrix e(group_count) not found"
     ]
    }
   ],
   "source": [
    "group_count = np.array(Matrix.get('e(group_count)'))\n"
   ]
  },
  {
   "cell_type": "code",
   "execution_count": 47,
   "id": "48161e09",
   "metadata": {
    "scrolled": true
   },
   "outputs": [
    {
     "ename": "TypeError",
     "evalue": "argument 1 must be str, not numpy.ndarray",
     "output_type": "error",
     "traceback": [
      "\u001b[1;31m---------------------------------------------------------------------------\u001b[0m",
      "\u001b[1;31mTypeError\u001b[0m                                 Traceback (most recent call last)",
      "\u001b[1;32m~\\AppData\\Local\\Temp/ipykernel_24092/4090770558.py\u001b[0m in \u001b[0;36m<module>\u001b[1;34m\u001b[0m\n\u001b[1;32m----> 1\u001b[1;33m \u001b[0mgroup_count\u001b[0m \u001b[1;33m=\u001b[0m \u001b[0mnp\u001b[0m\u001b[1;33m.\u001b[0m\u001b[0marray\u001b[0m\u001b[1;33m(\u001b[0m\u001b[0mMatrix\u001b[0m\u001b[1;33m.\u001b[0m\u001b[0mget\u001b[0m\u001b[1;33m(\u001b[0m\u001b[0mdideret\u001b[0m\u001b[1;33m[\u001b[0m\u001b[1;34m'e(group_count)'\u001b[0m\u001b[1;33m]\u001b[0m\u001b[1;33m)\u001b[0m\u001b[1;33m)\u001b[0m\u001b[1;33m\u001b[0m\u001b[1;33m\u001b[0m\u001b[0m\n\u001b[0m\u001b[0;32m      2\u001b[0m \u001b[1;31m# will store e(group_count) in Python as a NumPy array named group_count\u001b[0m\u001b[1;33m\u001b[0m\u001b[1;33m\u001b[0m\u001b[0m\n",
      "\u001b[1;32mC:\\Program Files\\Stata17/ado\\base\\py\\sfi.py\u001b[0m in \u001b[0;36mget\u001b[1;34m(name, rows, cols)\u001b[0m\n\u001b[0;32m   3978\u001b[0m               \u001b[1;33m-\u001b[0m \u001b[0many\u001b[0m \u001b[0mof\u001b[0m \u001b[0mthe\u001b[0m \u001b[0mcolumn\u001b[0m \u001b[0mindices\u001b[0m \u001b[0mspecified\u001b[0m \u001b[1;32min\u001b[0m\u001b[0;31m \u001b[0m\u001b[0;31m`\u001b[0m\u001b[0mcols\u001b[0m\u001b[0;31m`\u001b[0m \u001b[1;32mis\u001b[0m \u001b[0mout\u001b[0m \u001b[0mof\u001b[0m \u001b[1;33m:\u001b[0m\u001b[0mref\u001b[0m\u001b[1;33m:\u001b[0m\u001b[0;31m`\u001b[0m\u001b[0mrange\u001b[0m \u001b[1;33m<\u001b[0m\u001b[0mref\u001b[0m\u001b[1;33m-\u001b[0m\u001b[0mmatrixrange\u001b[0m\u001b[1;33m>\u001b[0m\u001b[0;31m`\u001b[0m\u001b[1;33m.\u001b[0m\u001b[1;33m\u001b[0m\u001b[1;33m\u001b[0m\u001b[0m\n\u001b[0;32m   3979\u001b[0m         \"\"\"\n\u001b[1;32m-> 3980\u001b[1;33m         \u001b[0mncols\u001b[0m \u001b[1;33m=\u001b[0m \u001b[0m_stp\u001b[0m\u001b[1;33m.\u001b[0m\u001b[0m_st_getmatrixcol\u001b[0m\u001b[1;33m(\u001b[0m\u001b[0mname\u001b[0m\u001b[1;33m)\u001b[0m\u001b[1;33m\u001b[0m\u001b[1;33m\u001b[0m\u001b[0m\n\u001b[0m\u001b[0;32m   3981\u001b[0m \u001b[1;33m\u001b[0m\u001b[0m\n\u001b[0;32m   3982\u001b[0m         \u001b[1;32mif\u001b[0m \u001b[0mrows\u001b[0m \u001b[1;32mis\u001b[0m \u001b[1;32mNone\u001b[0m\u001b[1;33m:\u001b[0m\u001b[1;33m\u001b[0m\u001b[1;33m\u001b[0m\u001b[0m\n",
      "\u001b[1;31mTypeError\u001b[0m: argument 1 must be str, not numpy.ndarray"
     ]
    }
   ],
   "source": [
    "group_count = np.array(Matrix.get(dideret['e(group_count)']))\n",
    "# will store e(group_count) in Python as a NumPy array named group_count"
   ]
  },
  {
   "cell_type": "code",
   "execution_count": null,
   "id": "dc8e61cc",
   "metadata": {},
   "outputs": [],
   "source": []
  }
 ],
 "metadata": {
  "kernelspec": {
   "display_name": "Python 3 (ipykernel)",
   "language": "python",
   "name": "python3"
  },
  "language_info": {
   "codemirror_mode": {
    "name": "ipython",
    "version": 3
   },
   "file_extension": ".py",
   "mimetype": "text/x-python",
   "name": "python",
   "nbconvert_exporter": "python",
   "pygments_lexer": "ipython3",
   "version": "3.9.7"
  }
 },
 "nbformat": 4,
 "nbformat_minor": 5
}
